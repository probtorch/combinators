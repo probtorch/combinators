{
 "cells": [
  {
   "cell_type": "code",
   "execution_count": 1,
   "metadata": {},
   "outputs": [],
   "source": [
    "#!/usr/bin/env python3\n",
    "import torch\n",
    "import math\n",
    "from torch import nn, Tensor\n",
    "from torch.utils.tensorboard import SummaryWriter\n",
    "from tqdm import trange\n",
    "from typing import Tuple\n",
    "from matplotlib import pyplot as plt\n",
    "\n",
    "import combinators.trace.utils as trace_utils\n",
    "from combinators.trace.utils import RequiresGrad\n",
    "from combinators.tensor.utils import autodevice, kw_autodevice, copy, show\n",
    "from combinators.densities import MultivariateNormal, Tempered, RingGMM\n",
    "from combinators.densities.kernels import MultivariateNormalKernel, MultivariateNormalLinearKernel\n",
    "from combinators.nnets import ResMLPJ\n",
    "from combinators.objectives import nvo_rkl\n",
    "from combinators import Forward, Reverse, Propose\n",
    "from combinators.stochastic import RandomVariable, ImproperRandomVariable\n",
    "from combinators.metrics import effective_sample_size, log_Z_hat\n",
    "import visualize as V\n",
    "\n",
    "def mk_kernel(from_:int, to_:int, std:float, num_hidden:int):\n",
    "    embedding_dim = 2\n",
    "    return MultivariateNormalKernel(\n",
    "        ext_from=f'g{from_}',\n",
    "        ext_to=f'g{to_}',\n",
    "        loc=torch.zeros(2, **kw_autodevice()),\n",
    "        cov=torch.eye(2, **kw_autodevice())*std**2,\n",
    "        net=ResMLPJ(\n",
    "            dim_in=2,\n",
    "            dim_hidden=num_hidden,\n",
    "            dim_out=embedding_dim).to(autodevice()))\n",
    "    # return MultivariateNormalLinearKernel(\n",
    "    #     ext_from=f'g{from_}',\n",
    "    #     ext_to=f'g{to_}',\n",
    "    #     loc=torch.zeros(2, **kw_autodevice()),\n",
    "    #     cov=torch.eye(2, **kw_autodevice())*std**2)\n",
    "\n",
    "def mk_model(num_targets:int):\n",
    "    proposal_std = 16\n",
    "    g0 = MultivariateNormal(name='g0', loc=torch.zeros(2, **kw_autodevice()), cov=torch.eye(2, **kw_autodevice())*proposal_std**2)\n",
    "    gK = RingGMM(scale=8, count=8, name=f\"g{num_targets - 1}\").to(autodevice())\n",
    "\n",
    "    # Make an annealing path\n",
    "    betas = torch.arange(0., 1., 1./(num_targets - 1))[1:] # g_0 is beta=0\n",
    "    path = [Tempered(f'g{k}', g0, gK, beta) for k, beta in zip(range(1,num_targets-1), betas)]\n",
    "    path = [g0] + path + [gK]\n",
    "    assert len(path) == num_targets # sanity check that the betas line up\n",
    "\n",
    "    return dict(\n",
    "        targets=path,\n",
    "        forwards=[mk_kernel(from_=i, to_=i+1, std=1., num_hidden=64) for i in range(num_targets-1)],\n",
    "        reverses=[mk_kernel(from_=i+1, to_=i, std=1., num_hidden=64) for i in range(num_targets-1)],\n",
    "    )"
   ]
  },
  {
   "cell_type": "code",
   "execution_count": 2,
   "metadata": {},
   "outputs": [],
   "source": [
    "import torch\n",
    "import math\n",
    "from torch import nn, Tensor\n",
    "from torch.utils.tensorboard import SummaryWriter\n",
    "from tqdm import trange\n",
    "from typing import Tuple\n",
    "from matplotlib import pyplot as plt\n",
    "\n",
    "import combinators.trace.utils as trace_utils\n",
    "from combinators.tensor.utils import autodevice, kw_autodevice\n",
    "from combinators.densities import MultivariateNormal, Tempered, RingGMM\n",
    "from combinators.densities.kernels import MultivariateNormalKernel\n",
    "from combinators.nnets import ResMLPJ\n",
    "from combinators.objectives import nvo_rkl\n",
    "from combinators import Forward, Reverse, Propose\n",
    "from combinators.stochastic import RandomVariable, ImproperRandomVariable\n",
    "from combinators.metrics import effective_sample_size, log_Z_hat\n",
    "import visualize as V"
   ]
  },
  {
   "cell_type": "code",
   "execution_count": 3,
   "metadata": {},
   "outputs": [],
   "source": [
    "from main import mk_model, mk_kernel\n",
    "from tqdm.notebook import trange, tqdm\n"
   ]
  },
  {
   "cell_type": "code",
   "execution_count": 4,
   "metadata": {},
   "outputs": [],
   "source": [
    "from combinators import Forward\n",
    "    \n",
    "def sample_along(proposal, kernels, sample_shape=(2000,)):\n",
    "    samples = []\n",
    "    tr, out = proposal(sample_shape=sample_shape)\n",
    "    samples.append(out)\n",
    "    for k in forwards:\n",
    "        proposal = Forward(k, proposal)\n",
    "        tr, out = proposal(sample_shape=sample_shape)\n",
    "        samples.append(out)\n",
    "    return samples"
   ]
  },
  {
   "cell_type": "code",
   "execution_count": 5,
   "metadata": {},
   "outputs": [],
   "source": [
    "# main() arguments\n",
    "seed=1\n",
    "num_iterations=5000\n",
    "eval_break = 500"
   ]
  },
  {
   "cell_type": "code",
   "execution_count": 6,
   "metadata": {},
   "outputs": [],
   "source": [
    "# Setup\n",
    "torch.manual_seed(seed)\n",
    "K = 8\n",
    "num_samples = 256\n",
    "sample_shape=(num_samples,)\n",
    "\n",
    "# Models\n",
    "out = mk_model(K)\n",
    "targets, forwards, reverses = [[m.to(autodevice()) for m in out[n]] for n in ['targets', 'forwards', 'reverses']]\n",
    "\n",
    "assert all([len(list(k.parameters())) >  0 for k in [*forwards, *reverses]])\n",
    "optimizer = torch.optim.Adam([dict(params=x.parameters()) for x in [*forwards, *reverses]], lr=1e-4)\n",
    "\n",
    "# logging\n",
    "writer = SummaryWriter()\n",
    "loss_ct, loss_sum, loss_avgs, loss_all = 0, 0.0, [], []"
   ]
  },
  {
   "cell_type": "code",
   "execution_count": null,
   "metadata": {},
   "outputs": [
    {
     "data": {
      "application/vnd.jupyter.widget-view+json": {
       "model_id": "68dc4f8265b14eb5aa11e645e28b788d",
       "version_major": 2,
       "version_minor": 0
      },
      "text/plain": [
       "  0%|          | 0/5000 [00:00<?, ?it/s]"
      ]
     },
     "metadata": {},
     "output_type": "display_data"
    },
    {
     "name": "stdout",
     "output_type": "stream",
     "text": [
      "> \u001b[0;32m<ipython-input-7-dcf3b518b661>\u001b[0m(23)\u001b[0;36m<module>\u001b[0;34m()\u001b[0m\n",
      "\u001b[0;32m     22 \u001b[0;31m            \u001b[0mbreakpoint\u001b[0m\u001b[0;34m(\u001b[0m\u001b[0;34m)\u001b[0m\u001b[0;34m\u001b[0m\u001b[0;34m\u001b[0m\u001b[0m\n",
      "\u001b[0m\u001b[0;32m---> 23 \u001b[0;31m            \u001b[0mbatch_dim\u001b[0m\u001b[0;34m=\u001b[0m\u001b[0;32mNone\u001b[0m\u001b[0;34m\u001b[0m\u001b[0;34m\u001b[0m\u001b[0m\n",
      "\u001b[0m\u001b[0;32m     24 \u001b[0;31m            \u001b[0msample_dims\u001b[0m\u001b[0;34m=\u001b[0m\u001b[0;36m0\u001b[0m\u001b[0;34m\u001b[0m\u001b[0;34m\u001b[0m\u001b[0m\n",
      "\u001b[0m\n"
     ]
    },
    {
     "name": "stdin",
     "output_type": "stream",
     "text": [
      "ipdb>  n\n"
     ]
    },
    {
     "name": "stdout",
     "output_type": "stream",
     "text": [
      "> \u001b[0;32m<ipython-input-7-dcf3b518b661>\u001b[0m(24)\u001b[0;36m<module>\u001b[0;34m()\u001b[0m\n",
      "\u001b[0;32m     23 \u001b[0;31m            \u001b[0mbatch_dim\u001b[0m\u001b[0;34m=\u001b[0m\u001b[0;32mNone\u001b[0m\u001b[0;34m\u001b[0m\u001b[0;34m\u001b[0m\u001b[0m\n",
      "\u001b[0m\u001b[0;32m---> 24 \u001b[0;31m            \u001b[0msample_dims\u001b[0m\u001b[0;34m=\u001b[0m\u001b[0;36m0\u001b[0m\u001b[0;34m\u001b[0m\u001b[0;34m\u001b[0m\u001b[0m\n",
      "\u001b[0m\u001b[0;32m     25 \u001b[0;31m            \u001b[0mrv_proposal\u001b[0m\u001b[0;34m=\u001b[0m\u001b[0mstate\u001b[0m\u001b[0;34m.\u001b[0m\u001b[0mproposal\u001b[0m\u001b[0;34m.\u001b[0m\u001b[0mtrace\u001b[0m\u001b[0;34m[\u001b[0m\u001b[0;34mf'g{k}'\u001b[0m\u001b[0;34m]\u001b[0m\u001b[0;34m\u001b[0m\u001b[0;34m\u001b[0m\u001b[0m\n",
      "\u001b[0m\n"
     ]
    },
    {
     "name": "stdin",
     "output_type": "stream",
     "text": [
      "ipdb>  n\n"
     ]
    },
    {
     "name": "stdout",
     "output_type": "stream",
     "text": [
      "> \u001b[0;32m<ipython-input-7-dcf3b518b661>\u001b[0m(25)\u001b[0;36m<module>\u001b[0;34m()\u001b[0m\n",
      "\u001b[0;32m     24 \u001b[0;31m            \u001b[0msample_dims\u001b[0m\u001b[0;34m=\u001b[0m\u001b[0;36m0\u001b[0m\u001b[0;34m\u001b[0m\u001b[0;34m\u001b[0m\u001b[0m\n",
      "\u001b[0m\u001b[0;32m---> 25 \u001b[0;31m            \u001b[0mrv_proposal\u001b[0m\u001b[0;34m=\u001b[0m\u001b[0mstate\u001b[0m\u001b[0;34m.\u001b[0m\u001b[0mproposal\u001b[0m\u001b[0;34m.\u001b[0m\u001b[0mtrace\u001b[0m\u001b[0;34m[\u001b[0m\u001b[0;34mf'g{k}'\u001b[0m\u001b[0;34m]\u001b[0m\u001b[0;34m\u001b[0m\u001b[0;34m\u001b[0m\u001b[0m\n",
      "\u001b[0m\u001b[0;32m     26 \u001b[0;31m            \u001b[0mrv_target\u001b[0m\u001b[0;34m=\u001b[0m\u001b[0mstate\u001b[0m\u001b[0;34m.\u001b[0m\u001b[0mtarget\u001b[0m\u001b[0;34m.\u001b[0m\u001b[0mtrace\u001b[0m\u001b[0;34m[\u001b[0m\u001b[0;34mf'g{k+1}'\u001b[0m\u001b[0;34m]\u001b[0m\u001b[0;34m\u001b[0m\u001b[0;34m\u001b[0m\u001b[0m\n",
      "\u001b[0m\n"
     ]
    },
    {
     "name": "stdin",
     "output_type": "stream",
     "text": [
      "ipdb>  lvs.shape\n"
     ]
    },
    {
     "name": "stdout",
     "output_type": "stream",
     "text": [
      "*** NameError: name 'lvs' is not defined\n"
     ]
    },
    {
     "name": "stdin",
     "output_type": "stream",
     "text": [
      "ipdb>  lv.shape\n"
     ]
    },
    {
     "name": "stdout",
     "output_type": "stream",
     "text": [
      "torch.Size([256])\n"
     ]
    },
    {
     "name": "stdin",
     "output_type": "stream",
     "text": [
      "ipdb>  n\n"
     ]
    },
    {
     "name": "stdout",
     "output_type": "stream",
     "text": [
      "> \u001b[0;32m<ipython-input-7-dcf3b518b661>\u001b[0m(26)\u001b[0;36m<module>\u001b[0;34m()\u001b[0m\n",
      "\u001b[0;32m     25 \u001b[0;31m            \u001b[0mrv_proposal\u001b[0m\u001b[0;34m=\u001b[0m\u001b[0mstate\u001b[0m\u001b[0;34m.\u001b[0m\u001b[0mproposal\u001b[0m\u001b[0;34m.\u001b[0m\u001b[0mtrace\u001b[0m\u001b[0;34m[\u001b[0m\u001b[0;34mf'g{k}'\u001b[0m\u001b[0;34m]\u001b[0m\u001b[0;34m\u001b[0m\u001b[0;34m\u001b[0m\u001b[0m\n",
      "\u001b[0m\u001b[0;32m---> 26 \u001b[0;31m            \u001b[0mrv_target\u001b[0m\u001b[0;34m=\u001b[0m\u001b[0mstate\u001b[0m\u001b[0;34m.\u001b[0m\u001b[0mtarget\u001b[0m\u001b[0;34m.\u001b[0m\u001b[0mtrace\u001b[0m\u001b[0;34m[\u001b[0m\u001b[0;34mf'g{k+1}'\u001b[0m\u001b[0;34m]\u001b[0m\u001b[0;34m\u001b[0m\u001b[0;34m\u001b[0m\u001b[0m\n",
      "\u001b[0m\u001b[0;32m     27 \u001b[0;31m            \u001b[0;31m# TODO: move back from the proposal and target RVs to joint logprobs?\u001b[0m\u001b[0;34m\u001b[0m\u001b[0;34m\u001b[0m\u001b[0;34m\u001b[0m\u001b[0m\n",
      "\u001b[0m\n"
     ]
    },
    {
     "name": "stdin",
     "output_type": "stream",
     "text": [
      "ipdb>  n\n"
     ]
    },
    {
     "name": "stdout",
     "output_type": "stream",
     "text": [
      "> \u001b[0;32m<ipython-input-7-dcf3b518b661>\u001b[0m(28)\u001b[0;36m<module>\u001b[0;34m()\u001b[0m\n",
      "\u001b[0;32m     27 \u001b[0;31m            \u001b[0;31m# TODO: move back from the proposal and target RVs to joint logprobs?\u001b[0m\u001b[0;34m\u001b[0m\u001b[0;34m\u001b[0m\u001b[0;34m\u001b[0m\u001b[0m\n",
      "\u001b[0m\u001b[0;32m---> 28 \u001b[0;31m            \u001b[0mreducedims\u001b[0m \u001b[0;34m=\u001b[0m \u001b[0;34m(\u001b[0m\u001b[0msample_dims\u001b[0m\u001b[0;34m,\u001b[0m\u001b[0;34m)\u001b[0m\u001b[0;34m\u001b[0m\u001b[0;34m\u001b[0m\u001b[0m\n",
      "\u001b[0m\u001b[0;32m     29 \u001b[0;31m\u001b[0;34m\u001b[0m\u001b[0m\n",
      "\u001b[0m\n"
     ]
    },
    {
     "name": "stdin",
     "output_type": "stream",
     "text": [
      "ipdb>  n\n"
     ]
    },
    {
     "name": "stdout",
     "output_type": "stream",
     "text": [
      "> \u001b[0;32m<ipython-input-7-dcf3b518b661>\u001b[0m(30)\u001b[0;36m<module>\u001b[0;34m()\u001b[0m\n",
      "\u001b[0;32m     29 \u001b[0;31m\u001b[0;34m\u001b[0m\u001b[0m\n",
      "\u001b[0m\u001b[0;32m---> 30 \u001b[0;31m            \u001b[0mlw\u001b[0m \u001b[0;34m=\u001b[0m \u001b[0mlw\u001b[0m\u001b[0;34m.\u001b[0m\u001b[0mdetach\u001b[0m\u001b[0;34m(\u001b[0m\u001b[0;34m)\u001b[0m\u001b[0;34m\u001b[0m\u001b[0;34m\u001b[0m\u001b[0m\n",
      "\u001b[0m\u001b[0;32m     31 \u001b[0;31m            \u001b[0mldZ\u001b[0m \u001b[0;34m=\u001b[0m \u001b[0mlv\u001b[0m\u001b[0;34m.\u001b[0m\u001b[0mdetach\u001b[0m\u001b[0;34m(\u001b[0m\u001b[0;34m)\u001b[0m\u001b[0;34m.\u001b[0m\u001b[0mlogsumexp\u001b[0m\u001b[0;34m(\u001b[0m\u001b[0mdim\u001b[0m\u001b[0;34m=\u001b[0m\u001b[0msample_dims\u001b[0m\u001b[0;34m)\u001b[0m \u001b[0;34m-\u001b[0m \u001b[0mmath\u001b[0m\u001b[0;34m.\u001b[0m\u001b[0mlog\u001b[0m\u001b[0;34m(\u001b[0m\u001b[0mlv\u001b[0m\u001b[0;34m.\u001b[0m\u001b[0mshape\u001b[0m\u001b[0;34m[\u001b[0m\u001b[0msample_dims\u001b[0m\u001b[0;34m]\u001b[0m\u001b[0;34m)\u001b[0m\u001b[0;34m\u001b[0m\u001b[0;34m\u001b[0m\u001b[0m\n",
      "\u001b[0m\n"
     ]
    },
    {
     "name": "stdin",
     "output_type": "stream",
     "text": [
      "ipdb>  n\n"
     ]
    },
    {
     "name": "stdout",
     "output_type": "stream",
     "text": [
      "> \u001b[0;32m<ipython-input-7-dcf3b518b661>\u001b[0m(31)\u001b[0;36m<module>\u001b[0;34m()\u001b[0m\n",
      "\u001b[0;32m     30 \u001b[0;31m            \u001b[0mlw\u001b[0m \u001b[0;34m=\u001b[0m \u001b[0mlw\u001b[0m\u001b[0;34m.\u001b[0m\u001b[0mdetach\u001b[0m\u001b[0;34m(\u001b[0m\u001b[0;34m)\u001b[0m\u001b[0;34m\u001b[0m\u001b[0;34m\u001b[0m\u001b[0m\n",
      "\u001b[0m\u001b[0;32m---> 31 \u001b[0;31m            \u001b[0mldZ\u001b[0m \u001b[0;34m=\u001b[0m \u001b[0mlv\u001b[0m\u001b[0;34m.\u001b[0m\u001b[0mdetach\u001b[0m\u001b[0;34m(\u001b[0m\u001b[0;34m)\u001b[0m\u001b[0;34m.\u001b[0m\u001b[0mlogsumexp\u001b[0m\u001b[0;34m(\u001b[0m\u001b[0mdim\u001b[0m\u001b[0;34m=\u001b[0m\u001b[0msample_dims\u001b[0m\u001b[0;34m)\u001b[0m \u001b[0;34m-\u001b[0m \u001b[0mmath\u001b[0m\u001b[0;34m.\u001b[0m\u001b[0mlog\u001b[0m\u001b[0;34m(\u001b[0m\u001b[0mlv\u001b[0m\u001b[0;34m.\u001b[0m\u001b[0mshape\u001b[0m\u001b[0;34m[\u001b[0m\u001b[0msample_dims\u001b[0m\u001b[0;34m]\u001b[0m\u001b[0;34m)\u001b[0m\u001b[0;34m\u001b[0m\u001b[0;34m\u001b[0m\u001b[0m\n",
      "\u001b[0m\u001b[0;32m     32 \u001b[0;31m            \u001b[0mf\u001b[0m \u001b[0;34m=\u001b[0m \u001b[0;34m-\u001b[0m\u001b[0mlv\u001b[0m\u001b[0;34m\u001b[0m\u001b[0;34m\u001b[0m\u001b[0m\n",
      "\u001b[0m\n"
     ]
    },
    {
     "name": "stdin",
     "output_type": "stream",
     "text": [
      "ipdb>  lw.shape\n"
     ]
    },
    {
     "name": "stdout",
     "output_type": "stream",
     "text": [
      "torch.Size([256])\n"
     ]
    },
    {
     "name": "stdin",
     "output_type": "stream",
     "text": [
      "ipdb>  n\n"
     ]
    },
    {
     "name": "stdout",
     "output_type": "stream",
     "text": [
      "> \u001b[0;32m<ipython-input-7-dcf3b518b661>\u001b[0m(32)\u001b[0;36m<module>\u001b[0;34m()\u001b[0m\n",
      "\u001b[0;32m     31 \u001b[0;31m            \u001b[0mldZ\u001b[0m \u001b[0;34m=\u001b[0m \u001b[0mlv\u001b[0m\u001b[0;34m.\u001b[0m\u001b[0mdetach\u001b[0m\u001b[0;34m(\u001b[0m\u001b[0;34m)\u001b[0m\u001b[0;34m.\u001b[0m\u001b[0mlogsumexp\u001b[0m\u001b[0;34m(\u001b[0m\u001b[0mdim\u001b[0m\u001b[0;34m=\u001b[0m\u001b[0msample_dims\u001b[0m\u001b[0;34m)\u001b[0m \u001b[0;34m-\u001b[0m \u001b[0mmath\u001b[0m\u001b[0;34m.\u001b[0m\u001b[0mlog\u001b[0m\u001b[0;34m(\u001b[0m\u001b[0mlv\u001b[0m\u001b[0;34m.\u001b[0m\u001b[0mshape\u001b[0m\u001b[0;34m[\u001b[0m\u001b[0msample_dims\u001b[0m\u001b[0;34m]\u001b[0m\u001b[0;34m)\u001b[0m\u001b[0;34m\u001b[0m\u001b[0;34m\u001b[0m\u001b[0m\n",
      "\u001b[0m\u001b[0;32m---> 32 \u001b[0;31m            \u001b[0mf\u001b[0m \u001b[0;34m=\u001b[0m \u001b[0;34m-\u001b[0m\u001b[0mlv\u001b[0m\u001b[0;34m\u001b[0m\u001b[0;34m\u001b[0m\u001b[0m\n",
      "\u001b[0m\u001b[0;32m     33 \u001b[0;31m\u001b[0;34m\u001b[0m\u001b[0m\n",
      "\u001b[0m\n"
     ]
    },
    {
     "name": "stdin",
     "output_type": "stream",
     "text": [
      "ipdb>  ldZ.shape\n"
     ]
    },
    {
     "name": "stdout",
     "output_type": "stream",
     "text": [
      "torch.Size([])\n"
     ]
    },
    {
     "name": "stdin",
     "output_type": "stream",
     "text": [
      "ipdb>  n\n"
     ]
    },
    {
     "name": "stdout",
     "output_type": "stream",
     "text": [
      "> \u001b[0;32m<ipython-input-7-dcf3b518b661>\u001b[0m(37)\u001b[0;36m<module>\u001b[0;34m()\u001b[0m\n",
      "\u001b[0;32m     36 \u001b[0;31m\u001b[0;34m\u001b[0m\u001b[0m\n",
      "\u001b[0m\u001b[0;32m---> 37 \u001b[0;31m            kwargs = dict(\n",
      "\u001b[0m\u001b[0;32m     38 \u001b[0;31m                \u001b[0msample_dims\u001b[0m\u001b[0;34m=\u001b[0m\u001b[0msample_dims\u001b[0m\u001b[0;34m,\u001b[0m\u001b[0;34m\u001b[0m\u001b[0;34m\u001b[0m\u001b[0m\n",
      "\u001b[0m\n"
     ]
    },
    {
     "name": "stdin",
     "output_type": "stream",
     "text": [
      "ipdb>  n\n"
     ]
    },
    {
     "name": "stdout",
     "output_type": "stream",
     "text": [
      "> \u001b[0;32m<ipython-input-7-dcf3b518b661>\u001b[0m(38)\u001b[0;36m<module>\u001b[0;34m()\u001b[0m\n",
      "\u001b[0;32m     37 \u001b[0;31m            kwargs = dict(\n",
      "\u001b[0m\u001b[0;32m---> 38 \u001b[0;31m                \u001b[0msample_dims\u001b[0m\u001b[0;34m=\u001b[0m\u001b[0msample_dims\u001b[0m\u001b[0;34m,\u001b[0m\u001b[0;34m\u001b[0m\u001b[0;34m\u001b[0m\u001b[0m\n",
      "\u001b[0m\u001b[0;32m     39 \u001b[0;31m                \u001b[0mreducedims\u001b[0m\u001b[0;34m=\u001b[0m\u001b[0mreducedims\u001b[0m\u001b[0;34m,\u001b[0m\u001b[0;34m\u001b[0m\u001b[0;34m\u001b[0m\u001b[0m\n",
      "\u001b[0m\n"
     ]
    },
    {
     "name": "stdin",
     "output_type": "stream",
     "text": [
      "ipdb>  n\n"
     ]
    },
    {
     "name": "stdout",
     "output_type": "stream",
     "text": [
      "> \u001b[0;32m<ipython-input-7-dcf3b518b661>\u001b[0m(39)\u001b[0;36m<module>\u001b[0;34m()\u001b[0m\n",
      "\u001b[0;32m     38 \u001b[0;31m                \u001b[0msample_dims\u001b[0m\u001b[0;34m=\u001b[0m\u001b[0msample_dims\u001b[0m\u001b[0;34m,\u001b[0m\u001b[0;34m\u001b[0m\u001b[0;34m\u001b[0m\u001b[0m\n",
      "\u001b[0m\u001b[0;32m---> 39 \u001b[0;31m                \u001b[0mreducedims\u001b[0m\u001b[0;34m=\u001b[0m\u001b[0mreducedims\u001b[0m\u001b[0;34m,\u001b[0m\u001b[0;34m\u001b[0m\u001b[0;34m\u001b[0m\u001b[0m\n",
      "\u001b[0m\u001b[0;32m     40 \u001b[0;31m                \u001b[0mkeepdims\u001b[0m\u001b[0;34m=\u001b[0m\u001b[0;32mFalse\u001b[0m\u001b[0;34m\u001b[0m\u001b[0;34m\u001b[0m\u001b[0m\n",
      "\u001b[0m\n"
     ]
    },
    {
     "name": "stdin",
     "output_type": "stream",
     "text": [
      "ipdb>  n\n"
     ]
    },
    {
     "name": "stdout",
     "output_type": "stream",
     "text": [
      "> \u001b[0;32m<ipython-input-7-dcf3b518b661>\u001b[0m(40)\u001b[0;36m<module>\u001b[0;34m()\u001b[0m\n",
      "\u001b[0;32m     39 \u001b[0;31m                \u001b[0mreducedims\u001b[0m\u001b[0;34m=\u001b[0m\u001b[0mreducedims\u001b[0m\u001b[0;34m,\u001b[0m\u001b[0;34m\u001b[0m\u001b[0;34m\u001b[0m\u001b[0m\n",
      "\u001b[0m\u001b[0;32m---> 40 \u001b[0;31m                \u001b[0mkeepdims\u001b[0m\u001b[0;34m=\u001b[0m\u001b[0;32mFalse\u001b[0m\u001b[0;34m\u001b[0m\u001b[0;34m\u001b[0m\u001b[0m\n",
      "\u001b[0m\u001b[0;32m     41 \u001b[0;31m            )\n",
      "\u001b[0m\n"
     ]
    },
    {
     "name": "stdin",
     "output_type": "stream",
     "text": [
      "ipdb>  n\n"
     ]
    },
    {
     "name": "stdout",
     "output_type": "stream",
     "text": [
      "> \u001b[0;32m<ipython-input-7-dcf3b518b661>\u001b[0m(37)\u001b[0;36m<module>\u001b[0;34m()\u001b[0m\n",
      "\u001b[0;32m     36 \u001b[0;31m\u001b[0;34m\u001b[0m\u001b[0m\n",
      "\u001b[0m\u001b[0;32m---> 37 \u001b[0;31m            kwargs = dict(\n",
      "\u001b[0m\u001b[0;32m     38 \u001b[0;31m                \u001b[0msample_dims\u001b[0m\u001b[0;34m=\u001b[0m\u001b[0msample_dims\u001b[0m\u001b[0;34m,\u001b[0m\u001b[0;34m\u001b[0m\u001b[0;34m\u001b[0m\u001b[0m\n",
      "\u001b[0m\n"
     ]
    },
    {
     "name": "stdin",
     "output_type": "stream",
     "text": [
      "ipdb>  n\n"
     ]
    },
    {
     "name": "stdout",
     "output_type": "stream",
     "text": [
      "> \u001b[0;32m<ipython-input-7-dcf3b518b661>\u001b[0m(43)\u001b[0;36m<module>\u001b[0;34m()\u001b[0m\n",
      "\u001b[0;32m     42 \u001b[0;31m\u001b[0;34m\u001b[0m\u001b[0m\n",
      "\u001b[0m\u001b[0;32m---> 43 \u001b[0;31m            \u001b[0mbaseline\u001b[0m \u001b[0;34m=\u001b[0m \u001b[0m_estimate_mc\u001b[0m\u001b[0;34m(\u001b[0m\u001b[0mf\u001b[0m\u001b[0;34m.\u001b[0m\u001b[0mdetach\u001b[0m\u001b[0;34m(\u001b[0m\u001b[0;34m)\u001b[0m\u001b[0;34m,\u001b[0m \u001b[0mlw\u001b[0m\u001b[0;34m,\u001b[0m \u001b[0;34m**\u001b[0m\u001b[0mkwargs\u001b[0m\u001b[0;34m)\u001b[0m\u001b[0;34m.\u001b[0m\u001b[0mdetach\u001b[0m\u001b[0;34m(\u001b[0m\u001b[0;34m)\u001b[0m\u001b[0;34m\u001b[0m\u001b[0;34m\u001b[0m\u001b[0m\n",
      "\u001b[0m\u001b[0;32m     44 \u001b[0;31m\u001b[0;34m\u001b[0m\u001b[0m\n",
      "\u001b[0m\n"
     ]
    },
    {
     "name": "stdin",
     "output_type": "stream",
     "text": [
      "ipdb>  n\n"
     ]
    },
    {
     "name": "stdout",
     "output_type": "stream",
     "text": [
      "> \u001b[0;32m<ipython-input-7-dcf3b518b661>\u001b[0m(45)\u001b[0;36m<module>\u001b[0;34m()\u001b[0m\n",
      "\u001b[0;32m     44 \u001b[0;31m\u001b[0;34m\u001b[0m\u001b[0m\n",
      "\u001b[0m\u001b[0;32m---> 45 \u001b[0;31m            \u001b[0mkl_term\u001b[0m \u001b[0;34m=\u001b[0m \u001b[0m_estimate_mc\u001b[0m\u001b[0;34m(\u001b[0m\u001b[0mmb1\u001b[0m\u001b[0;34m(\u001b[0m\u001b[0mrv_proposal\u001b[0m\u001b[0;34m.\u001b[0m\u001b[0m_log_prob\u001b[0m\u001b[0;34m)\u001b[0m \u001b[0;34m*\u001b[0m \u001b[0;34m(\u001b[0m\u001b[0mf\u001b[0m \u001b[0;34m-\u001b[0m \u001b[0mbaseline\u001b[0m\u001b[0;34m)\u001b[0m\u001b[0;34m,\u001b[0m \u001b[0mlw\u001b[0m\u001b[0;34m,\u001b[0m \u001b[0;34m**\u001b[0m\u001b[0mkwargs\u001b[0m\u001b[0;34m)\u001b[0m\u001b[0;34m\u001b[0m\u001b[0;34m\u001b[0m\u001b[0m\n",
      "\u001b[0m\u001b[0;32m     46 \u001b[0;31m\u001b[0;34m\u001b[0m\u001b[0m\n",
      "\u001b[0m\n"
     ]
    },
    {
     "name": "stdin",
     "output_type": "stream",
     "text": [
      "ipdb>  baseline\n"
     ]
    },
    {
     "name": "stdout",
     "output_type": "stream",
     "text": [
      "tensor(38.2808, device='cuda:0')\n"
     ]
    },
    {
     "name": "stdin",
     "output_type": "stream",
     "text": [
      "ipdb>  n\n"
     ]
    },
    {
     "name": "stdout",
     "output_type": "stream",
     "text": [
      "> \u001b[0;32m<ipython-input-7-dcf3b518b661>\u001b[0m(47)\u001b[0;36m<module>\u001b[0;34m()\u001b[0m\n",
      "\u001b[0;32m     46 \u001b[0;31m\u001b[0;34m\u001b[0m\u001b[0m\n",
      "\u001b[0m\u001b[0;32m---> 47 \u001b[0;31m            \u001b[0mgrad_log_Z1\u001b[0m \u001b[0;34m=\u001b[0m \u001b[0m_estimate_mc\u001b[0m\u001b[0;34m(\u001b[0m\u001b[0mrv_proposal\u001b[0m\u001b[0;34m.\u001b[0m\u001b[0m_log_prob\u001b[0m\u001b[0;34m,\u001b[0m \u001b[0mlw\u001b[0m\u001b[0;34m,\u001b[0m \u001b[0;34m**\u001b[0m\u001b[0mkwargs\u001b[0m\u001b[0;34m)\u001b[0m\u001b[0;34m\u001b[0m\u001b[0;34m\u001b[0m\u001b[0m\n",
      "\u001b[0m\u001b[0;32m     48 \u001b[0;31m            \u001b[0mgrad_log_Z2\u001b[0m \u001b[0;34m=\u001b[0m \u001b[0m_estimate_mc\u001b[0m\u001b[0;34m(\u001b[0m\u001b[0meval_nrep\u001b[0m\u001b[0;34m(\u001b[0m\u001b[0mrv_target\u001b[0m\u001b[0;34m)\u001b[0m\u001b[0;34m.\u001b[0m\u001b[0m_log_prob\u001b[0m\u001b[0;34m,\u001b[0m \u001b[0mlw\u001b[0m\u001b[0;34m+\u001b[0m\u001b[0mlv\u001b[0m\u001b[0;34m.\u001b[0m\u001b[0mdetach\u001b[0m\u001b[0;34m(\u001b[0m\u001b[0;34m)\u001b[0m\u001b[0;34m,\u001b[0m \u001b[0;34m**\u001b[0m\u001b[0mkwargs\u001b[0m\u001b[0;34m)\u001b[0m\u001b[0;34m\u001b[0m\u001b[0;34m\u001b[0m\u001b[0m\n",
      "\u001b[0m\n"
     ]
    },
    {
     "name": "stdin",
     "output_type": "stream",
     "text": [
      "ipdb>  kl_term\n"
     ]
    },
    {
     "name": "stdout",
     "output_type": "stream",
     "text": [
      "tensor(-8.8289e-07, device='cuda:0', grad_fn=<SumBackward1>)\n"
     ]
    },
    {
     "name": "stdin",
     "output_type": "stream",
     "text": [
      "ipdb>  (mb1(rv_proposal._log_prob) * (f - baseline)).shape\n"
     ]
    },
    {
     "name": "stdout",
     "output_type": "stream",
     "text": [
      "torch.Size([256])\n"
     ]
    },
    {
     "name": "stdin",
     "output_type": "stream",
     "text": [
      "ipdb>  (mb1(rv_proposal._log_prob) ).shape\n"
     ]
    },
    {
     "name": "stdout",
     "output_type": "stream",
     "text": [
      "torch.Size([256])\n"
     ]
    },
    {
     "name": "stdin",
     "output_type": "stream",
     "text": [
      "ipdb>  rv_proposal._log_prob.shape\n"
     ]
    },
    {
     "name": "stdout",
     "output_type": "stream",
     "text": [
      "torch.Size([256])\n"
     ]
    },
    {
     "name": "stdin",
     "output_type": "stream",
     "text": [
      "ipdb>  rv_proposal._log_prob\n"
     ]
    },
    {
     "name": "stdout",
     "output_type": "stream",
     "text": [
      "tensor([-5.4635, -2.2040, -1.9204, -5.7113, -5.7258, -2.1578, -2.8195, -3.4620,\n",
      "        -1.9583, -3.4753, -2.3907, -2.7854, -2.7172, -6.6422, -1.9373, -3.9268,\n",
      "        -2.0027, -5.6784, -1.9400, -3.9187, -2.2655, -1.8483, -4.5269, -2.7946,\n",
      "        -2.4407, -2.2646, -2.4601, -2.4522, -2.1176, -2.2776, -2.3705, -2.8373,\n",
      "        -4.0239, -1.8732, -5.1909, -2.7361, -3.4399, -3.2864, -1.9102, -3.1194,\n",
      "        -2.8840, -2.0699, -2.4503, -4.9765, -4.1048, -3.0285, -3.3769, -3.0123,\n",
      "        -2.0621, -2.4099, -4.8356, -3.0698, -1.8830, -1.8808, -2.9520, -3.0570,\n",
      "        -3.5481, -3.4461, -3.6942, -1.9640, -2.6313, -2.8533, -2.0251, -2.6844,\n",
      "        -2.3050, -2.3685, -1.8867, -2.0564, -2.5897, -2.9680, -3.1532, -2.7890,\n",
      "        -2.2845, -2.5548, -2.1770, -4.0307, -3.3111, -2.0785, -2.2710, -4.5252,\n",
      "        -2.0763, -2.0993, -1.8598, -2.0463, -2.1192, -3.4935, -2.8658, -2.0514,\n",
      "        -1.8390, -1.9937, -2.5651, -3.5768, -3.3661, -2.4932, -2.4793, -1.9957,\n",
      "        -2.7700, -2.2445, -2.4369, -3.6366, -2.9982, -2.7574, -2.1814, -3.8156,\n",
      "        -1.9604, -1.8495, -3.6779, -3.1153, -2.9338, -2.8377, -2.7300, -2.1100,\n",
      "        -1.8582, -2.3703, -1.8955, -3.0441, -2.1207, -2.7533, -3.0572, -3.7088,\n",
      "        -3.3392, -4.3251, -2.8049, -2.2702, -2.3711, -2.5125, -2.0000, -4.7332,\n",
      "        -2.0347, -4.4593, -2.4151, -2.6364, -2.1710, -2.5657, -4.3242, -4.5519,\n",
      "        -2.7601, -2.5238, -2.1216, -1.9221, -2.7048, -1.9812, -2.4118, -2.2875,\n",
      "        -2.8299, -2.3674, -1.8587, -2.3203, -2.2714, -1.9529, -2.0816, -1.8955,\n",
      "        -1.9755, -2.0919, -1.9472, -3.5455, -2.2848, -2.8456, -3.2890, -3.2108,\n",
      "        -2.5631, -3.1209, -5.5716, -3.5067, -4.8076, -1.9778, -1.9533, -3.5902,\n",
      "        -2.1872, -4.2618, -2.7734, -3.6603, -3.4358, -2.8313, -2.0401, -3.7461,\n",
      "        -3.1533, -3.7348, -4.9783, -2.4345, -2.4544, -2.4585, -2.5840, -3.2954,\n",
      "        -4.8497, -1.9709, -2.3346, -3.1891, -3.0483, -2.8558, -2.7018, -2.4698,\n",
      "        -2.3459, -3.1954, -2.7679, -3.2470, -2.9319, -4.1180, -3.5904, -2.2658,\n",
      "        -4.4394, -1.9660, -2.4751, -4.0716, -3.8503, -1.9551, -2.2658, -2.6318,\n",
      "        -3.2601, -2.5076, -3.6627, -2.5359, -2.1837, -6.6923, -2.1473, -3.8735,\n",
      "        -2.0380, -2.6002, -2.6394, -2.9253, -3.6563, -2.6902, -1.9746, -7.3212,\n",
      "        -4.3342, -4.2076, -2.0523, -5.9026, -2.7326, -2.0447, -2.2131, -2.6478,\n",
      "        -2.5260, -2.4435, -2.1944, -2.3829, -3.0175, -1.8821, -2.1190, -2.6681,\n",
      "        -1.8707, -3.0636, -2.1486, -3.9320, -2.0071, -4.1045, -1.9644, -1.8549,\n",
      "        -2.2504, -2.2076, -4.0748, -3.4932, -2.0994, -2.5026, -4.4522, -2.5717],\n",
      "       device='cuda:0')\n"
     ]
    }
   ],
   "source": [
    "with trange(num_iterations) as bar:\n",
    "    for i in bar:\n",
    "        q0 = targets[0]\n",
    "        p_prv_tr, out0 = q0(sample_shape=sample_shape)\n",
    "\n",
    "        loss = torch.zeros(1, **kw_autodevice())\n",
    "        lw, lvss = torch.zeros(sample_shape, **kw_autodevice()), []\n",
    "        for k, (fwd, rev, q, p) in enumerate(zip(forwards, reverses, targets[:-1], targets[1:])):\n",
    "            q.with_observations(trace_utils.copytrace(p_prv_tr, detach=p_prv_tr.keys()))\n",
    "            q_ext = Forward(fwd, q, _step=k)\n",
    "            p_ext = Reverse(p, rev, _step=k)\n",
    "            extend = Propose(target=p_ext, proposal=q_ext, _step=k)\n",
    "            state, lv = extend(sample_shape=sample_shape, sample_dims=0)\n",
    "\n",
    "            p_prv_tr = state.target.trace\n",
    "            p.clear_observations()\n",
    "            q.clear_observations()\n",
    "\n",
    "            lw += lv\n",
    "\n",
    "            from combinators.objectives import mb0, mb1, _estimate_mc\n",
    "            breakpoint()\n",
    "            batch_dim=None\n",
    "            sample_dims=0\n",
    "            rv_proposal=state.proposal.trace[f'g{k}']\n",
    "            rv_target=state.target.trace[f'g{k+1}']\n",
    "            # TODO: move back from the proposal and target RVs to joint logprobs?\n",
    "            reducedims = (sample_dims,)\n",
    "\n",
    "            lw = lw.detach()\n",
    "            ldZ = lv.detach().logsumexp(dim=sample_dims) - math.log(lv.shape[sample_dims])\n",
    "            f = -lv\n",
    "\n",
    "            # rv_proposal = next(iter(proposal_trace.values())) # tr[\\gamma_{k-1}]\n",
    "            # rv_target = next(iter(target_trace.values()))     # tr[\\gamma_{k}]\n",
    "\n",
    "            kwargs = dict(\n",
    "                sample_dims=sample_dims,\n",
    "                reducedims=reducedims,\n",
    "                keepdims=False\n",
    "            )\n",
    "\n",
    "            baseline = _estimate_mc(f.detach(), lw, **kwargs).detach()\n",
    "\n",
    "            kl_term = _estimate_mc(mb1(rv_proposal._log_prob) * (f - baseline), lw, **kwargs)\n",
    "\n",
    "            grad_log_Z1 = _estimate_mc(rv_proposal._log_prob, lw, **kwargs)\n",
    "            grad_log_Z2 = _estimate_mc(eval_nrep(rv_target)._log_prob, lw+lv.detach(), **kwargs)\n",
    "\n",
    "            loss = kl_term + mb0(baseline * grad_log_Z1 - grad_log_Z2) + baseline + ldZ\n",
    "            \n",
    "            if k == (K-2):\n",
    "                breakpoint()\n",
    "                loss += nvo_rkl(lw, lv, state.proposal.trace[f'g{k}'], state.target.trace[f'g{k+1}'])\n",
    "            lvss.append(lv)\n",
    "        loss.backward()\n",
    "\n",
    "        optimizer.step()\n",
    "        optimizer.zero_grad()\n",
    "\n",
    "        with torch.no_grad():\n",
    "            # REPORTING\n",
    "            # ---------------------------------------\n",
    "            # ESS\n",
    "            lvs = torch.stack(lvss, dim=0)\n",
    "            lws = torch.cumsum(lvs, dim=1)\n",
    "            ess = effective_sample_size(lws, sample_dims=-1)\n",
    "            for step, x in zip(range(1,len(ess)+1), ess):\n",
    "                writer.add_scalar(f'ess/step-{step}', x, i)\n",
    "\n",
    "            # logZhat\n",
    "            lzh = log_Z_hat(lws, sample_dims=-1)\n",
    "            for step, x in zip(range(1,len(lzh)+1), lzh):\n",
    "                writer.add_scalar(f'log_Z_hat/step-{step}', x, i)\n",
    "\n",
    "            # loss\n",
    "            loss_ct += 1\n",
    "            loss_scalar = loss.detach().cpu().mean().item()\n",
    "            writer.add_scalar('training/loss', loss_scalar, i)\n",
    "            loss_sum += loss_scalar\n",
    "\n",
    "            # progress bar\n",
    "            loss_avg = loss_sum / loss_ct\n",
    "            loss_template = 'loss={}{:.4f}'.format('' if loss_avg < 0 else ' ', loss_avg)\n",
    "            logZh_template = 'logZhat[-1]={:.4f}'.format(lzh[-1].cpu().item())\n",
    "            ess_template = 'ess[-1]={:.4f}'.format(ess[-1].cpu().item())\n",
    "            loss_ct, loss_sum  = 0, 0.0\n",
    "            bar.set_postfix_str(\"; \".join([loss_template, ess_template, logZh_template]))\n",
    "\n",
    "            # show samples\n",
    "            if i % (eval_break + 1) == 0:\n",
    "                samples = sample_along(targets[0], forwards)\n",
    "                fig = V.scatter_along(samples)\n",
    "                writer.add_figure('overview', fig, global_step=i, close=True)\n",
    "#                 for ix, xs in enumerate(samples):\n",
    "#                     writer.add_figure(f'step-{ix+1}', V.scatter(xs), global_step=i, close=True)\n",
    "\n"
   ]
  },
  {
   "cell_type": "code",
   "execution_count": null,
   "metadata": {},
   "outputs": [],
   "source": []
  },
  {
   "cell_type": "code",
   "execution_count": null,
   "metadata": {},
   "outputs": [],
   "source": []
  },
  {
   "cell_type": "code",
   "execution_count": null,
   "metadata": {},
   "outputs": [],
   "source": []
  },
  {
   "cell_type": "code",
   "execution_count": null,
   "metadata": {},
   "outputs": [],
   "source": []
  },
  {
   "cell_type": "code",
   "execution_count": null,
   "metadata": {},
   "outputs": [],
   "source": []
  }
 ],
 "metadata": {
  "kernelspec": {
   "display_name": "Python 3",
   "language": "python",
   "name": "python3"
  },
  "language_info": {
   "codemirror_mode": {
    "name": "ipython",
    "version": 3
   },
   "file_extension": ".py",
   "mimetype": "text/x-python",
   "name": "python",
   "nbconvert_exporter": "python",
   "pygments_lexer": "ipython3",
   "version": "3.8.5"
  }
 },
 "nbformat": 4,
 "nbformat_minor": 4
}
